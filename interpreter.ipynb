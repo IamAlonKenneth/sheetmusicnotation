{
 "cells": [
  {
   "cell_type": "code",
   "execution_count": 4,
   "id": "7ff78a34",
   "metadata": {},
   "outputs": [],
   "source": [
    "import re\n",
    "from dataclasses import dataclass\n",
    "from typing import List, Optional, Any, Dict, Tuple"
   ]
  },
  {
   "cell_type": "markdown",
   "id": "b4b06783",
   "metadata": {},
   "source": [
    "## Lexer"
   ]
  },
  {
   "cell_type": "code",
   "execution_count": 5,
   "id": "ec434a24",
   "metadata": {},
   "outputs": [],
   "source": [
    "TokenSpec = [\n",
    "    (\"NUMBER\",      r\"\\d+\"),\n",
    "    (\"NOTE\",        r\"[A-G](?:#|b)?\\d\"),        # e.g., C4, F#3, Bb5\n",
    "    (\"DURATION\",    r\"whole|half|quarter|eighth|sixteenth\"), # common durations\n",
    "    (\"SET\",         r\"Set\\b|set\\b\"),\n",
    "    (\"KEY\",         r\"key\\b|Key\\b\"),\n",
    "    (\"TIME\",        r\"time\\b|Time\\b\"),\n",
    "    (\"SIGNATURE\",   r\"signature\\b|Signature\\b\"),\n",
    "    (\"TEMPO\",       r\"tempo\\b|Tempo\\b\"),\n",
    "    (\"IN\",          r\"In\\b|in\\b\"),\n",
    "    (\"MEASURE\",     r\"measure\\b|Measure\\b\"),\n",
    "    (\"TO\",          r\"to\\b|To\\b\"),\n",
    "    (\"COLON\",       r\":\"),\n",
    "    (\"COMMA\",       r\",\"),\n",
    "    (\"SLASH\",       r\"/\"),\n",
    "    (\"IDENT\",       r\"[A-Za-z+#]+\"),            # words like 'C', 'major', 'minor'\n",
    "    (\"NEWLINE\",     r\"\\n\"),\n",
    "    (\"WS\",          r\"[ \\t]+\"),\n",
    "    (\"UNKNOWN\",     r\".\"),\n",
    "]\n",
    "tok_regex = \"|\".join(f\"(?P<{name}>{pattern})\" for name, pattern in TokenSpec)\n",
    "\n",
    "@dataclass\n",
    "class Token:\n",
    "    type: str\n",
    "    value: str\n",
    "    pos: int"
   ]
  },
  {
   "cell_type": "code",
   "execution_count": 6,
   "id": "e7326c95",
   "metadata": {},
   "outputs": [],
   "source": [
    "class Lexer:\n",
    "    def __init__(self, text: str):\n",
    "        self.text = text\n",
    "        self.pos = 0\n",
    "        self.tokens: List[Token] = []\n",
    "\n",
    "    def tokenize(self) -> List[Token]:\n",
    "        for m in re.finditer(tok_regex, self.text):\n",
    "            kind = m.lastgroup\n",
    "            value = m.group()\n",
    "            pos = m.start()\n",
    "            if kind == \"WS\" or kind == \"NEWLINE\":\n",
    "                continue\n",
    "            if kind == \"UNKNOWN\":\n",
    "                raise SyntaxError(f\"Unknown token {value!r} at pos {pos}\")\n",
    " \n",
    "            tok = Token(kind, value, pos)\n",
    "            self.tokens.append(tok)\n",
    "        self.tokens.append(Token(\"EOF\", \"\", len(self.text)))\n",
    "        return self.tokens"
   ]
  },
  {
   "cell_type": "markdown",
   "id": "22fafe0b",
   "metadata": {},
   "source": [
    "### Testing tokens"
   ]
  },
  {
   "cell_type": "code",
   "execution_count": 7,
   "id": "22284935",
   "metadata": {},
   "outputs": [
    {
     "name": "stdout",
     "output_type": "stream",
     "text": [
      "Token(type='SET', value='Set', pos=0)\n",
      "Token(type='KEY', value='key', pos=4)\n",
      "Token(type='TO', value='to', pos=8)\n",
      "Token(type='IDENT', value='C', pos=11)\n",
      "Token(type='IDENT', value='minor', pos=13)\n",
      "Token(type='SET', value='Set', pos=23)\n",
      "Token(type='TIME', value='time', pos=27)\n",
      "Token(type='SIGNATURE', value='signature', pos=32)\n",
      "Token(type='TO', value='to', pos=42)\n",
      "Token(type='NUMBER', value='4', pos=45)\n",
      "Token(type='SLASH', value='/', pos=46)\n",
      "Token(type='NUMBER', value='4', pos=47)\n",
      "Token(type='SET', value='Set', pos=53)\n",
      "Token(type='TEMPO', value='tempo', pos=57)\n",
      "Token(type='TO', value='to', pos=63)\n",
      "Token(type='NUMBER', value='120', pos=66)\n",
      "Token(type='IN', value='In', pos=75)\n",
      "Token(type='MEASURE', value='measure', pos=78)\n",
      "Token(type='NUMBER', value='1', pos=86)\n",
      "Token(type='COLON', value=':', pos=87)\n",
      "Token(type='NOTE', value='C4', pos=97)\n",
      "Token(type='DURATION', value='quarter', pos=100)\n",
      "Token(type='COMMA', value=',', pos=107)\n",
      "Token(type='NOTE', value='E4', pos=109)\n",
      "Token(type='DURATION', value='quarter', pos=112)\n",
      "Token(type='COMMA', value=',', pos=119)\n",
      "Token(type='NOTE', value='G4', pos=121)\n",
      "Token(type='DURATION', value='half', pos=124)\n",
      "Token(type='IN', value='In', pos=134)\n",
      "Token(type='MEASURE', value='measure', pos=137)\n",
      "Token(type='NUMBER', value='2', pos=145)\n",
      "Token(type='COLON', value=':', pos=146)\n",
      "Token(type='NOTE', value='F4', pos=156)\n",
      "Token(type='DURATION', value='quarter', pos=159)\n",
      "Token(type='COMMA', value=',', pos=166)\n",
      "Token(type='NOTE', value='A4', pos=168)\n",
      "Token(type='DURATION', value='quarter', pos=171)\n",
      "Token(type='COMMA', value=',', pos=178)\n",
      "Token(type='NOTE', value='C5', pos=180)\n",
      "Token(type='DURATION', value='half', pos=183)\n",
      "Token(type='IN', value='In', pos=193)\n",
      "Token(type='MEASURE', value='measure', pos=196)\n",
      "Token(type='NUMBER', value='3', pos=204)\n",
      "Token(type='COLON', value=':', pos=205)\n",
      "Token(type='NOTE', value='D4', pos=215)\n",
      "Token(type='DURATION', value='quarter', pos=218)\n",
      "Token(type='COMMA', value=',', pos=225)\n",
      "Token(type='NOTE', value='F4', pos=227)\n",
      "Token(type='DURATION', value='quarter', pos=230)\n",
      "Token(type='COMMA', value=',', pos=237)\n",
      "Token(type='NOTE', value='A4', pos=239)\n",
      "Token(type='DURATION', value='half', pos=242)\n",
      "Token(type='EOF', value='', pos=246)\n"
     ]
    }
   ],
   "source": [
    "sample = \"\"\"\n",
    "    Set key to C minor\n",
    "    Set time signature to 4/4\n",
    "    Set tempo to 120\n",
    "\n",
    "    In measure 1:\n",
    "        C4 quarter, E4 quarter, G4 half\n",
    "\n",
    "    In measure 2:\n",
    "        F4 quarter, A4 quarter, C5 half\n",
    "        \n",
    "    In measure 3:\n",
    "        D4 quarter, F4 quarter, A4 half\n",
    "    \"\"\"\n",
    "lexer = Lexer(sample.strip())\n",
    "tokens = lexer.tokenize()\n",
    "for token in tokens:\n",
    "    print(token)"
   ]
  },
  {
   "cell_type": "markdown",
   "id": "a7ebbd82",
   "metadata": {},
   "source": [
    "## Parser"
   ]
  },
  {
   "cell_type": "code",
   "execution_count": 24,
   "id": "28f60711",
   "metadata": {},
   "outputs": [],
   "source": [
    "class Parser:\n",
    "    def __init__(self, tokens):\n",
    "        self.tokens = tokens\n",
    "        self.pos = 0\n",
    "\n",
    "    def peek(self):\n",
    "        if self.pos < len(self.tokens):\n",
    "            return self.tokens[self.pos]\n",
    "        return None\n",
    "    \n",
    "    def eat(self, expected_type=None):\n",
    "        token = self.peek()\n",
    "        if token is None:\n",
    "            raise SyntaxError(\"Unexpected end of input\")    \n",
    "        if expected_type and token.type != expected_type:\n",
    "            raise SyntaxError(f\"Expected token type {expected_type}, got {token.type}\")\n",
    "        self.pos += 1\n",
    "        return token\n",
    "    \n",
    "    def parse_list(self):\n",
    "        statements = []\n",
    "        while self.peek().type != \"EOF\":\n",
    "            statements.append(self.parse_statement())\n",
    "        return (\"list\", statements)\n",
    "    \n",
    "    def parse_statement(self):\n",
    "        token = self.peek()\n",
    "        if token.type == \"SET\":\n",
    "            self.eat(\"SET\")\n",
    "            next_tok = self.peek()\n",
    "            if next_tok.type == \"KEY\":\n",
    "                return self.parse_set_key_stmt()\n",
    "            elif next_tok.type == \"TIME\":\n",
    "                return self.parse_set_time_signature_stmt()\n",
    "            elif next_tok.type == \"TEMPO\":\n",
    "                return self.parse_set_tempo_stmt()\n",
    "            else:\n",
    "                raise SyntaxError(f\"Unexpected token {next_tok.type} after SET\")\n",
    "        \n",
    "        elif token.type == \"IN\":\n",
    "            self.eat(\"IN\")\n",
    "            return self.parse_measure_stmt()\n",
    "        else:\n",
    "            raise SyntaxError(f\"Unexpected statement start: {token.type}\")\n",
    "        \n",
    "    def parse_set_key_stmt(self):\n",
    "        self.eat(\"KEY\")\n",
    "        self.eat(\"TO\")\n",
    "        key_name = self.eat(\"IDENT\").value\n",
    "        mode = self.eat(\"IDENT\").value\n",
    "        return (\"set_key\", key_name, mode)\n",
    "    \n",
    "    def parse_set_time_signature_stmt(self):\n",
    "        self.eat(\"TIME\")\n",
    "        self.eat(\"SIGNATURE\")\n",
    "        self.eat(\"TO\")\n",
    "        numerator = int(self.eat(\"NUMBER\").value)\n",
    "        self.eat(\"SLASH\")\n",
    "        denominator = int(self.eat(\"NUMBER\").value)\n",
    "        return (\"set_time_signature\", numerator, denominator)\n",
    "    \n",
    "    def parse_set_tempo_stmt(self):\n",
    "        self.eat(\"TEMPO\")\n",
    "        self.eat(\"TO\")\n",
    "        bpm = int(self.eat(\"NUMBER\").value)\n",
    "        return (\"set_tempo\", bpm)\n",
    "\n",
    "    def parse_measure_stmt(self):\n",
    "        self.eat(\"MEASURE\")\n",
    "        measure_num = int(self.eat(\"NUMBER\").value)\n",
    "        self.eat(\"COLON\")\n",
    "        notes = []\n",
    "        self.parse_note_list(notes)\n",
    "        return (\"measure\", measure_num, notes)      \n",
    "    \n",
    "    def parse_note_list(self, notes):\n",
    "        notes.append(self.parse_note_entry())\n",
    "        while self.peek() and self.peek().type == \"COMMA\":\n",
    "            self.eat(\"COMMA\")\n",
    "            notes.append(self.parse_note_entry())\n",
    "        return notes\n",
    "    \n",
    "    def parse_note_entry(self):\n",
    "        note = self.eat(\"NOTE\").value\n",
    "        duration = self.eat(\"DURATION\").value\n",
    "        return (\"note\", note, duration)"
   ]
  },
  {
   "cell_type": "code",
   "execution_count": 25,
   "id": "fb722801",
   "metadata": {},
   "outputs": [
    {
     "name": "stdout",
     "output_type": "stream",
     "text": [
      "('list', [('set_key', 'C', 'minor'), ('set_time_signature', 4, 4), ('set_tempo', 120), ('measure', 1, [('note', 'C4', 'quarter'), ('note', 'E4', 'quarter'), ('note', 'G4', 'half')]), ('measure', 2, [('note', 'F4', 'quarter'), ('note', 'A4', 'quarter'), ('note', 'C5', 'half')]), ('measure', 3, [('note', 'D4', 'quarter'), ('note', 'F4', 'quarter'), ('note', 'A4', 'half')])])\n"
     ]
    }
   ],
   "source": [
    "parser = Parser(tokens)\n",
    "ast = parser.parse_list()\n",
    "print(ast)"
   ]
  },
  {
   "cell_type": "markdown",
   "id": "15e76fb3",
   "metadata": {},
   "source": [
    "## Semantic Analyzer"
   ]
  },
  {
   "cell_type": "code",
   "execution_count": null,
   "id": "6f77afda",
   "metadata": {},
   "outputs": [],
   "source": [
    "from music21 import environment\n",
    "us = environment.UserSettings()\n",
    "us['musescoreDirectPNGPath'] = '/usr/bin/mscore3/mscore'\n",
    "us['musicxmlPath'] = '/usr/bin/mscore3/mscore'"
   ]
  },
  {
   "cell_type": "code",
   "execution_count": null,
   "id": "c3c6d33a",
   "metadata": {},
   "outputs": [],
   "source": []
  },
  {
   "cell_type": "markdown",
   "id": "41b9e3ab",
   "metadata": {},
   "source": [
    "## Output\n",
    "\n",
    "The output for this interpreter uses the *music21* library"
   ]
  },
  {
   "cell_type": "code",
   "execution_count": null,
   "id": "58352b2d",
   "metadata": {},
   "outputs": [
    {
     "data": {
      "image/png": "[encoded data removed]",
      "text/plain": [
       "<IPython.core.display.Image object>"
      ]
     },
     "metadata": {
      "image/png": {
       "height": 56,
       "width": 167
      }
     },
     "output_type": "display_data"
    },
    {
     "data": {
      "text/plain": [
       "PosixPath('/home/yuan/Documents/projects/python/ppl/sheetmusicnotation/test.xml')"
      ]
     },
     "execution_count": 41,
     "metadata": {},
     "output_type": "execute_result"
    }
   ],
   "source": [
    "from music21 import *\n",
    "\n",
    "# Sample output using music21\n",
    "n1 = note.Note(\"C4\")\n",
    "n1.duration.type=\"whole\"\n",
    "n2 = note.Note(\"A4\")\n",
    "n2.duration.type=\"16th\"\n",
    "\n",
    "stream=stream.Stream()\n",
    "\n",
    "stream.timeSignature = meter.TimeSignature('6/4')\n",
    "stream.keySignature = key.KeySignature(0) # set key to C major\n",
    "stream.tempo = tempo.MetronomeMark(number=120) # set tempo to 120 BPM\n",
    "\n",
    "stream.append([n1,n2])\n",
    "\n",
    "stream.show()\n",
    "\n",
    "#Writing as xml for MuseScore\n",
    "stream.write(\"musicxml\",fp=\"test.xml\")\n"
   ]
  }
 ],
 "metadata": {
  "kernelspec": {
   "display_name": ".venv",
   "language": "python",
   "name": "python3"
  },
  "language_info": {
   "codemirror_mode": {
    "name": "ipython",
    "version": 3
   },
   "file_extension": ".py",
   "mimetype": "text/x-python",
   "name": "python",
   "nbconvert_exporter": "python",
   "pygments_lexer": "ipython3",
   "version": "3.13.7"
  }
 },
 "nbformat": 4,
 "nbformat_minor": 5
}
