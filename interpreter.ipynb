{
 "cells": [
  {
   "cell_type": "code",
   "execution_count": 3,
   "id": "7ff78a34",
   "metadata": {},
   "outputs": [],
   "source": [
    "import re\n",
    "from dataclasses import dataclass\n",
    "from typing import List, Optional, Any, Dict, Tuple"
   ]
  },
  {
   "cell_type": "markdown",
   "id": "b4b06783",
   "metadata": {},
   "source": [
    "## Lexer"
   ]
  },
  {
   "cell_type": "code",
   "execution_count": 4,
   "id": "ec434a24",
   "metadata": {},
   "outputs": [],
   "source": [
    "TokenSpec = [\n",
    "    (\"NUMBER\",      r\"\\d+\"),\n",
    "    (\"NOTE\",        r\"[A-G](?:#|b)?\\d\"),        # e.g., C4, F#3, Bb5\n",
    "    (\"DURATION\",    r\"whole|half|quarter|eighth|sixteenth\"), # common durations\n",
    "    (\"SET\",         r\"Set\\b|set\\b\"),\n",
    "    (\"KEY\",         r\"key\\b|Key\\b\"),\n",
    "    (\"TIME\",        r\"time\\b|Time\\b\"),\n",
    "    (\"SIGNATURE\",   r\"signature\\b|Signature\\b\"),\n",
    "    (\"TEMPO\",       r\"tempo\\b|Tempo\\b\"),\n",
    "    (\"IN\",          r\"In\\b|in\\b\"),\n",
    "    (\"MEASURE\",     r\"measure\\b|Measure\\b\"),\n",
    "    (\"TO\",          r\"to\\b|To\\b\"),\n",
    "    (\"COLON\",       r\":\"),\n",
    "    (\"COMMA\",       r\",\"),\n",
    "    (\"SLASH\",       r\"/\"),\n",
    "    (\"IDENT\",       r\"[A-Za-z+#]+\"),            # words like 'C', 'major', 'minor'\n",
    "    (\"NEWLINE\",     r\"\\n\"),\n",
    "    (\"WS\",          r\"[ \\t]+\"),\n",
    "    (\"UNKNOWN\",     r\".\"),\n",
    "]\n",
    "tok_regex = \"|\".join(f\"(?P<{name}>{pattern})\" for name, pattern in TokenSpec)\n",
    "\n",
    "@dataclass\n",
    "class Token:\n",
    "    type: str\n",
    "    value: str\n",
    "    pos: int"
   ]
  },
  {
   "cell_type": "code",
   "execution_count": 5,
   "id": "e7326c95",
   "metadata": {},
   "outputs": [],
   "source": [
    "class Lexer:\n",
    "    def __init__(self, text: str):\n",
    "        self.text = text\n",
    "        self.pos = 0\n",
    "        self.tokens: List[Token] = []\n",
    "\n",
    "    def tokenize(self) -> List[Token]:\n",
    "        for m in re.finditer(tok_regex, self.text):\n",
    "            kind = m.lastgroup\n",
    "            value = m.group()\n",
    "            pos = m.start()\n",
    "            if kind == \"WS\" or kind == \"NEWLINE\":\n",
    "                continue\n",
    "            if kind == \"UNKNOWN\":\n",
    "                raise SyntaxError(f\"Unknown token {value!r} at pos {pos}\")\n",
    " \n",
    "            tok = Token(kind, value, pos)\n",
    "            self.tokens.append(tok)\n",
    "        self.tokens.append(Token(\"EOF\", \"\", len(self.text)))\n",
    "        return self.tokens"
   ]
  },
  {
   "cell_type": "markdown",
   "id": "22fafe0b",
   "metadata": {},
   "source": [
    "### Testing tokens"
   ]
  },
  {
   "cell_type": "code",
   "execution_count": 6,
   "id": "22284935",
   "metadata": {},
   "outputs": [
    {
     "name": "stdout",
     "output_type": "stream",
     "text": [
      "Token(type='SET', value='Set', pos=0)\n",
      "Token(type='KEY', value='key', pos=4)\n",
      "Token(type='TO', value='to', pos=8)\n",
      "Token(type='IDENT', value='C', pos=11)\n",
      "Token(type='IDENT', value='minor', pos=13)\n",
      "Token(type='SET', value='Set', pos=23)\n",
      "Token(type='TIME', value='time', pos=27)\n",
      "Token(type='SIGNATURE', value='signature', pos=32)\n",
      "Token(type='TO', value='to', pos=42)\n",
      "Token(type='NUMBER', value='4', pos=45)\n",
      "Token(type='SLASH', value='/', pos=46)\n",
      "Token(type='NUMBER', value='4', pos=47)\n",
      "Token(type='SET', value='Set', pos=53)\n",
      "Token(type='TEMPO', value='tempo', pos=57)\n",
      "Token(type='TO', value='to', pos=63)\n",
      "Token(type='NUMBER', value='120', pos=66)\n",
      "Token(type='IN', value='In', pos=75)\n",
      "Token(type='MEASURE', value='measure', pos=78)\n",
      "Token(type='NUMBER', value='1', pos=86)\n",
      "Token(type='COLON', value=':', pos=87)\n",
      "Token(type='NOTE', value='C4', pos=97)\n",
      "Token(type='DURATION', value='quarter', pos=100)\n",
      "Token(type='COMMA', value=',', pos=107)\n",
      "Token(type='NOTE', value='E4', pos=109)\n",
      "Token(type='DURATION', value='quarter', pos=112)\n",
      "Token(type='COMMA', value=',', pos=119)\n",
      "Token(type='NOTE', value='G4', pos=121)\n",
      "Token(type='DURATION', value='half', pos=124)\n",
      "Token(type='IN', value='In', pos=134)\n",
      "Token(type='MEASURE', value='measure', pos=137)\n",
      "Token(type='NUMBER', value='2', pos=145)\n",
      "Token(type='COLON', value=':', pos=146)\n",
      "Token(type='NOTE', value='F4', pos=156)\n",
      "Token(type='DURATION', value='quarter', pos=159)\n",
      "Token(type='COMMA', value=',', pos=166)\n",
      "Token(type='NOTE', value='A4', pos=168)\n",
      "Token(type='DURATION', value='quarter', pos=171)\n",
      "Token(type='COMMA', value=',', pos=178)\n",
      "Token(type='NOTE', value='C5', pos=180)\n",
      "Token(type='DURATION', value='half', pos=183)\n",
      "Token(type='IN', value='In', pos=193)\n",
      "Token(type='MEASURE', value='measure', pos=196)\n",
      "Token(type='NUMBER', value='3', pos=204)\n",
      "Token(type='COLON', value=':', pos=205)\n",
      "Token(type='NOTE', value='D4', pos=215)\n",
      "Token(type='DURATION', value='quarter', pos=218)\n",
      "Token(type='COMMA', value=',', pos=225)\n",
      "Token(type='NOTE', value='F4', pos=227)\n",
      "Token(type='DURATION', value='quarter', pos=230)\n",
      "Token(type='COMMA', value=',', pos=237)\n",
      "Token(type='NOTE', value='A4', pos=239)\n",
      "Token(type='DURATION', value='half', pos=242)\n",
      "Token(type='EOF', value='', pos=246)\n"
     ]
    }
   ],
   "source": [
    "sample = \"\"\"\n",
    "    Set key to C minor\n",
    "    Set time signature to 4/4\n",
    "    Set tempo to 120\n",
    "\n",
    "    In measure 1:\n",
    "        C4 quarter, E4 quarter, G4 half\n",
    "\n",
    "    In measure 2:\n",
    "        F4 quarter, A4 quarter, C5 half\n",
    "        \n",
    "    In measure 3:\n",
    "        D4 quarter, F4 quarter, A4 half\n",
    "    \"\"\"\n",
    "lexer = Lexer(sample.strip())\n",
    "tokens = lexer.tokenize()\n",
    "for token in tokens:\n",
    "    print(token)"
   ]
  },
  {
   "cell_type": "markdown",
   "id": "a7ebbd82",
   "metadata": {},
   "source": [
    "## Parser"
   ]
  },
  {
   "cell_type": "code",
   "execution_count": 7,
   "id": "28f60711",
   "metadata": {},
   "outputs": [],
   "source": [
    "class Parser:\n",
    "    def __init__(self, tokens):\n",
    "        self.tokens = tokens\n",
    "        self.pos = 0\n",
    "\n",
    "    def peek(self):\n",
    "        if self.pos < len(self.tokens):\n",
    "            return self.tokens[self.pos]\n",
    "        return None\n",
    "    \n",
    "    def eat(self, expected_type=None):\n",
    "        token = self.peek()\n",
    "        if token is None:\n",
    "            raise SyntaxError(\"Unexpected end of input\")    \n",
    "        if expected_type and token.type != expected_type:\n",
    "            raise SyntaxError(f\"Expected token type {expected_type}, got {token.type}\")\n",
    "        self.pos += 1\n",
    "        return token\n",
    "    \n",
    "    def parse_list(self):\n",
    "        statements = []\n",
    "        while self.peek().type != \"EOF\":\n",
    "            statements.append(self.parse_statement())\n",
    "        return (\"list\", statements)\n",
    "    \n",
    "    def parse_statement(self):\n",
    "        token = self.peek()\n",
    "        if token.type == \"SET\":\n",
    "            self.eat(\"SET\")\n",
    "            next_tok = self.peek()\n",
    "            if next_tok.type == \"KEY\":\n",
    "                return self.parse_set_key_stmt()\n",
    "            elif next_tok.type == \"TIME\":\n",
    "                return self.parse_set_time_signature_stmt()\n",
    "            elif next_tok.type == \"TEMPO\":\n",
    "                return self.parse_set_tempo_stmt()\n",
    "            else:\n",
    "                raise SyntaxError(f\"Unexpected token {next_tok.type} after SET\")\n",
    "        \n",
    "        elif token.type == \"IN\":\n",
    "            self.eat(\"IN\")\n",
    "            return self.parse_measure_stmt()\n",
    "        else:\n",
    "            raise SyntaxError(f\"Unexpected statement start: {token.type}\")\n",
    "        \n",
    "    def parse_set_key_stmt(self):\n",
    "        self.eat(\"KEY\")\n",
    "        self.eat(\"TO\")\n",
    "        key_name = self.eat(\"IDENT\").value\n",
    "        mode = self.eat(\"IDENT\").value\n",
    "        return (\"set_key\", key_name, mode)\n",
    "    \n",
    "    def parse_set_time_signature_stmt(self):\n",
    "        self.eat(\"TIME\")\n",
    "        self.eat(\"SIGNATURE\")\n",
    "        self.eat(\"TO\")\n",
    "        numerator = int(self.eat(\"NUMBER\").value)\n",
    "        self.eat(\"SLASH\")\n",
    "        denominator = int(self.eat(\"NUMBER\").value)\n",
    "        return (\"set_time_signature\", numerator, denominator)\n",
    "    \n",
    "    def parse_set_tempo_stmt(self):\n",
    "        self.eat(\"TEMPO\")\n",
    "        self.eat(\"TO\")\n",
    "        bpm = int(self.eat(\"NUMBER\").value)\n",
    "        return (\"set_tempo\", bpm)\n",
    "\n",
    "    def parse_measure_stmt(self):\n",
    "        self.eat(\"MEASURE\")\n",
    "        measure_num = int(self.eat(\"NUMBER\").value)\n",
    "        self.eat(\"COLON\")\n",
    "        notes = []\n",
    "        self.parse_note_list(notes)\n",
    "        return (\"measure\", measure_num, notes)      \n",
    "    \n",
    "    def parse_note_list(self, notes):\n",
    "        notes.append(self.parse_note_entry())\n",
    "        while self.peek() and self.peek().type == \"COMMA\":\n",
    "            self.eat(\"COMMA\")\n",
    "            notes.append(self.parse_note_entry())\n",
    "        return notes\n",
    "    \n",
    "    def parse_note_entry(self):\n",
    "        note = self.eat(\"NOTE\").value\n",
    "        duration = self.eat(\"DURATION\").value\n",
    "        return (\"note\", note, duration)"
   ]
  },
  {
   "cell_type": "code",
   "execution_count": 8,
   "id": "fb722801",
   "metadata": {},
   "outputs": [
    {
     "name": "stdout",
     "output_type": "stream",
     "text": [
      "('list', [('set_key', 'C', 'minor'), ('set_time_signature', 4, 4), ('set_tempo', 120), ('measure', 1, [('note', 'C4', 'quarter'), ('note', 'E4', 'quarter'), ('note', 'G4', 'half')]), ('measure', 2, [('note', 'F4', 'quarter'), ('note', 'A4', 'quarter'), ('note', 'C5', 'half')]), ('measure', 3, [('note', 'D4', 'quarter'), ('note', 'F4', 'quarter'), ('note', 'A4', 'half')])])\n"
     ]
    }
   ],
   "source": [
    "parser = Parser(tokens)\n",
    "ast = parser.parse_list()\n",
    "print(ast)"
   ]
  },
  {
   "cell_type": "markdown",
   "id": "15e76fb3",
   "metadata": {},
   "source": [
    "## Semantic Analyzer"
   ]
  },
  {
   "cell_type": "code",
   "execution_count": 14,
   "id": "6f77afda",
   "metadata": {},
   "outputs": [],
   "source": [
    "from music21 import *\n",
    "us = environment.UserSettings()\n",
    "us['musescoreDirectPNGPath'] = 'C:/Program Files/MuseScore 4/bin/MuseScore4.exe'"
   ]
  },
  {
   "cell_type": "code",
   "execution_count": 17,
   "id": "c3c6d33a",
   "metadata": {},
   "outputs": [],
   "source": [
    "\n",
    "class Semantic_Analyzer:\n",
    "    def __init__(self, ast):\n",
    "        self.ast = ast\n",
    "        self.key = None\n",
    "        self.time_signature = None\n",
    "        self.tempo = None\n",
    "        self.measures = {}\n",
    "\n",
    "        self.score = stream.Score()\n",
    "        self.part = stream.Part()\n",
    "        self.score.append(self.part)\n",
    "    \n",
    "    def analyze(self):\n",
    "        if self.ast[0] != \"list\":\n",
    "            raise ValueError(\"AST must be a list of statements\")\n",
    "        \n",
    "        for stmt in self.ast[1]:\n",
    "            self.analyze_statement(stmt)\n",
    "        \n",
    "        self.score.write('musicxml', fp='output.xml')\n",
    "        self.score.show('midi')\n",
    "        self.score.show()\n",
    "    \n",
    "    def analyze_statement(self, stmt):\n",
    "        if stmt[0] == \"set_key\":\n",
    "            _, key_name, mode = stmt\n",
    "            self.key = (key_name, mode)\n",
    "            self.part.append(key.Key(key_name, mode))\n",
    "        \n",
    "        elif stmt[0] == \"set_time_signature\":\n",
    "            _, numerator, denominator = stmt\n",
    "            self.time_signature = (numerator, denominator)\n",
    "            self.part.append(meter.TimeSignature(f\"{numerator}/{denominator}\"))\n",
    "        \n",
    "        elif stmt[0] == \"set_tempo\":\n",
    "            _, bpm = stmt\n",
    "            self.tempo = bpm\n",
    "            self.part.append(tempo.MetronomeMark(number=bpm))\n",
    "        \n",
    "        elif stmt[0] == \"measure\":\n",
    "            _, measure_num, notes = stmt\n",
    "\n",
    "            if measure_num in self.measures:\n",
    "                raise ValueError(f\"Duplicate measure number: {measure_num}\")\n",
    "            \n",
    "            m = stream.Measure(number=measure_num)\n",
    "            for note_entry in notes:\n",
    "                _, pitch, dur = note_entry\n",
    "                n = note.Note(pitch)\n",
    "                n.duration.type = dur\n",
    "                m.append(n)\n",
    "            self.measures[measure_num] = notes\n",
    "            self.part.append(m)\n",
    "           \n",
    "        \n",
    "        "
   ]
  },
  {
   "cell_type": "code",
   "execution_count": 18,
   "id": "f49797aa",
   "metadata": {},
   "outputs": [
    {
     "data": {
      "text/html": [
       "\n",
       "        <div id=\"midiPlayerDiv632\"></div>\n",
       "        <link rel=\"stylesheet\" href=\"https://cuthbertLab.github.io/music21j/css/m21.css\">\n",
       "        \n",
       "        <script\n",
       "        src=\"https://cdnjs.cloudflare.com/ajax/libs/require.js/2.3.6/require.min.js\"\n",
       "        ></script>\n",
       "    \n",
       "        <script>\n",
       "        function midiPlayerDiv632_play() {\n",
       "            const rq = require.config({\n",
       "                paths: {\n",
       "                    'music21': 'https://cuthbertLab.github.io/music21j/releases/music21.debug',\n",
       "                }\n",
       "            });\n",
       "            rq(['music21'], function(music21) {\n",
       "                mp = new music21.miditools.MidiPlayer();\n",
       "                mp.addPlayer(\"#midiPlayerDiv632\");\n",
       "                mp.base64Load(\"data:audio/midi;base64,TVRoZAAAAAYAAQACJ2BNVHJrAAAAGgD/UQMHoSAA/1kC/QEA/1gEBAIYCM5g/y8ATVRyawAAAGIA/wMAAOAAQM5gkDxazmCAPAAAkEBazmCAQAAAkENagZ1AgEMAAJBBWs5ggEEAAJBFWs5ggEUAAJBIWoGdQIBIAACQPlrOYIA+AACQQVrOYIBBAACQRVqBnUCARQDOYP8vAA==\");\n",
       "            });\n",
       "        }\n",
       "        if (typeof require === 'undefined') {\n",
       "            setTimeout(midiPlayerDiv632_play, 2000);\n",
       "        } else {\n",
       "            midiPlayerDiv632_play();\n",
       "        }\n",
       "        </script>"
      ],
      "text/plain": [
       "<IPython.core.display.HTML object>"
      ]
     },
     "metadata": {},
     "output_type": "display_data"
    },
    {
     "data": {
      "image/png": "[encoded data removed]",
      "text/plain": [
       "<IPython.core.display.Image object>"
      ]
     },
     "metadata": {
      "image/png": {
       "height": 49,
       "width": 697
      }
     },
     "output_type": "display_data"
    }
   ],
   "source": [
    "interpreter = Semantic_Analyzer(ast)\n",
    "interpreter.analyze()"
   ]
  },
  {
   "cell_type": "markdown",
   "id": "41b9e3ab",
   "metadata": {},
   "source": [
    "## Output\n",
    "\n",
    "The output for this interpreter uses the *music21* library"
   ]
  },
  {
   "cell_type": "code",
   "execution_count": 13,
   "id": "58352b2d",
   "metadata": {},
   "outputs": [
    {
     "ename": "PermissionError",
     "evalue": "[WinError 5] Access is denied",
     "output_type": "error",
     "traceback": [
      "\u001b[31m---------------------------------------------------------------------------\u001b[39m",
      "\u001b[31mPermissionError\u001b[39m                           Traceback (most recent call last)",
      "\u001b[36mCell\u001b[39m\u001b[36m \u001b[39m\u001b[32mIn[13]\u001b[39m\u001b[32m, line 17\u001b[39m\n\u001b[32m     13\u001b[39m stream.tempo = tempo.MetronomeMark(number=\u001b[32m120\u001b[39m) \u001b[38;5;66;03m# set tempo to 120 BPM\u001b[39;00m\n\u001b[32m     15\u001b[39m stream.append([n1,n2])\n\u001b[32m---> \u001b[39m\u001b[32m17\u001b[39m \u001b[43mstream\u001b[49m\u001b[43m.\u001b[49m\u001b[43mshow\u001b[49m\u001b[43m(\u001b[49m\u001b[43m)\u001b[49m\n\u001b[32m     19\u001b[39m \u001b[38;5;66;03m#Writing as xml for MuseScore\u001b[39;00m\n\u001b[32m     20\u001b[39m stream.write(\u001b[33m\"\u001b[39m\u001b[33mmusicxml\u001b[39m\u001b[33m\"\u001b[39m,fp=\u001b[33m\"\u001b[39m\u001b[33mtest.xml\u001b[39m\u001b[33m\"\u001b[39m)\n",
      "\u001b[36mFile \u001b[39m\u001b[32mc:\\Users\\kenne\\Documents\\school\\data_science\\data-science-activities\\myenv\\Lib\\site-packages\\music21\\stream\\base.py:412\u001b[39m, in \u001b[36mStream.show\u001b[39m\u001b[34m(self, fmt, app, **keywords)\u001b[39m\n\u001b[32m    410\u001b[39m \u001b[38;5;28;01mif\u001b[39;00m \u001b[38;5;28mself\u001b[39m.isSorted \u001b[38;5;129;01mis\u001b[39;00m \u001b[38;5;28;01mFalse\u001b[39;00m \u001b[38;5;129;01mand\u001b[39;00m \u001b[38;5;28mself\u001b[39m.autoSort:\n\u001b[32m    411\u001b[39m     \u001b[38;5;28mself\u001b[39m.sort()\n\u001b[32m--> \u001b[39m\u001b[32m412\u001b[39m \u001b[38;5;28;01mreturn\u001b[39;00m \u001b[38;5;28;43msuper\u001b[39;49m\u001b[43m(\u001b[49m\u001b[43m)\u001b[49m\u001b[43m.\u001b[49m\u001b[43mshow\u001b[49m\u001b[43m(\u001b[49m\u001b[43mfmt\u001b[49m\u001b[43m=\u001b[49m\u001b[43mfmt\u001b[49m\u001b[43m,\u001b[49m\u001b[43m \u001b[49m\u001b[43mapp\u001b[49m\u001b[43m=\u001b[49m\u001b[43mapp\u001b[49m\u001b[43m,\u001b[49m\u001b[43m \u001b[49m\u001b[43m*\u001b[49m\u001b[43m*\u001b[49m\u001b[43mkeywords\u001b[49m\u001b[43m)\u001b[49m\n",
      "\u001b[36mFile \u001b[39m\u001b[32mc:\\Users\\kenne\\Documents\\school\\data_science\\data-science-activities\\myenv\\Lib\\site-packages\\music21\\base.py:2996\u001b[39m, in \u001b[36mMusic21Object.show\u001b[39m\u001b[34m(self, fmt, app, **keywords)\u001b[39m\n\u001b[32m   2994\u001b[39m scClass = common.findSubConverterForFormat(regularizedConverterFormat)\n\u001b[32m   2995\u001b[39m formatWriter = scClass()\n\u001b[32m-> \u001b[39m\u001b[32m2996\u001b[39m \u001b[38;5;28;01mreturn\u001b[39;00m \u001b[43mformatWriter\u001b[49m\u001b[43m.\u001b[49m\u001b[43mshow\u001b[49m\u001b[43m(\u001b[49m\u001b[38;5;28;43mself\u001b[39;49m\u001b[43m,\u001b[49m\n\u001b[32m   2997\u001b[39m \u001b[43m                         \u001b[49m\u001b[43mregularizedConverterFormat\u001b[49m\u001b[43m,\u001b[49m\n\u001b[32m   2998\u001b[39m \u001b[43m                         \u001b[49m\u001b[43mapp\u001b[49m\u001b[43m=\u001b[49m\u001b[43mapp\u001b[49m\u001b[43m,\u001b[49m\n\u001b[32m   2999\u001b[39m \u001b[43m                         \u001b[49m\u001b[43msubformats\u001b[49m\u001b[43m=\u001b[49m\u001b[43msubformats\u001b[49m\u001b[43m,\u001b[49m\n\u001b[32m   3000\u001b[39m \u001b[43m                         \u001b[49m\u001b[43m*\u001b[49m\u001b[43m*\u001b[49m\u001b[43mkeywords\u001b[49m\u001b[43m)\u001b[49m\n",
      "\u001b[36mFile \u001b[39m\u001b[32mc:\\Users\\kenne\\Documents\\school\\data_science\\data-science-activities\\myenv\\Lib\\site-packages\\music21\\converter\\subConverters.py:384\u001b[39m, in \u001b[36mConverterIPython.show\u001b[39m\u001b[34m(self, obj, fmt, app, subformats, **keywords)\u001b[39m\n\u001b[32m    381\u001b[39m helperSubConverter = Converter.getSubConverterFromFormat(helperFormat)\n\u001b[32m    383\u001b[39m \u001b[38;5;28;01mif\u001b[39;00m helperFormat \u001b[38;5;129;01min\u001b[39;00m (\u001b[33m'\u001b[39m\u001b[33mmusicxml\u001b[39m\u001b[33m'\u001b[39m, \u001b[33m'\u001b[39m\u001b[33mxml\u001b[39m\u001b[33m'\u001b[39m, \u001b[33m'\u001b[39m\u001b[33mlilypond\u001b[39m\u001b[33m'\u001b[39m, \u001b[33m'\u001b[39m\u001b[33mlily\u001b[39m\u001b[33m'\u001b[39m):\n\u001b[32m--> \u001b[39m\u001b[32m384\u001b[39m     \u001b[43mip21_converters\u001b[49m\u001b[43m.\u001b[49m\u001b[43mshowImageThroughMuseScore\u001b[49m\u001b[43m(\u001b[49m\n\u001b[32m    385\u001b[39m \u001b[43m        \u001b[49m\u001b[43mobj\u001b[49m\u001b[43m,\u001b[49m\n\u001b[32m    386\u001b[39m \u001b[43m        \u001b[49m\u001b[43msubConverter\u001b[49m\u001b[43m=\u001b[49m\u001b[43mhelperSubConverter\u001b[49m\u001b[43m,\u001b[49m\n\u001b[32m    387\u001b[39m \u001b[43m        \u001b[49m\u001b[43mfmt\u001b[49m\u001b[43m=\u001b[49m\u001b[43mhelperFormat\u001b[49m\u001b[43m,\u001b[49m\n\u001b[32m    388\u001b[39m \u001b[43m        \u001b[49m\u001b[43msubformats\u001b[49m\u001b[43m=\u001b[49m\u001b[43mhelperSubformats\u001b[49m\u001b[43m,\u001b[49m\n\u001b[32m    389\u001b[39m \u001b[43m        \u001b[49m\u001b[43m*\u001b[49m\u001b[43m*\u001b[49m\u001b[43mkeywords\u001b[49m\u001b[43m,\u001b[49m\n\u001b[32m    390\u001b[39m \u001b[43m    \u001b[49m\u001b[43m)\u001b[49m\n\u001b[32m    391\u001b[39m \u001b[38;5;28;01melif\u001b[39;00m helperFormat == \u001b[33m'\u001b[39m\u001b[33mmidi\u001b[39m\u001b[33m'\u001b[39m:\n\u001b[32m    392\u001b[39m     \u001b[38;5;28;01mif\u001b[39;00m t.TYPE_CHECKING:\n",
      "\u001b[36mFile \u001b[39m\u001b[32mc:\\Users\\kenne\\Documents\\school\\data_science\\data-science-activities\\myenv\\Lib\\site-packages\\music21\\ipython21\\converters.py:80\u001b[39m, in \u001b[36mshowImageThroughMuseScore\u001b[39m\u001b[34m(obj, subConverter, fmt, subformats, multipageWidget, **keywords)\u001b[39m\n\u001b[32m     70\u001b[39m         showImageThroughMuseScore(\n\u001b[32m     71\u001b[39m             s,\n\u001b[32m     72\u001b[39m             subConverter=subConverter,\n\u001b[32m   (...)\u001b[39m\u001b[32m     76\u001b[39m             **keywords,\n\u001b[32m     77\u001b[39m         )\n\u001b[32m     78\u001b[39m     \u001b[38;5;28;01mreturn\u001b[39;00m\n\u001b[32m---> \u001b[39m\u001b[32m80\u001b[39m fp = \u001b[43msubConverter\u001b[49m\u001b[43m.\u001b[49m\u001b[43mwrite\u001b[49m\u001b[43m(\u001b[49m\n\u001b[32m     81\u001b[39m \u001b[43m    \u001b[49m\u001b[43mobj\u001b[49m\u001b[43m,\u001b[49m\n\u001b[32m     82\u001b[39m \u001b[43m    \u001b[49m\u001b[43mfmt\u001b[49m\u001b[43m,\u001b[49m\n\u001b[32m     83\u001b[39m \u001b[43m    \u001b[49m\u001b[43msubformats\u001b[49m\u001b[43m=\u001b[49m\u001b[43msubformats\u001b[49m\u001b[43m,\u001b[49m\n\u001b[32m     84\u001b[39m \u001b[43m    \u001b[49m\u001b[43mtrimEdges\u001b[49m\u001b[43m=\u001b[49m\u001b[38;5;129;43;01mnot\u001b[39;49;00m\u001b[43m \u001b[49m\u001b[43mmultipageWidget\u001b[49m\u001b[43m,\u001b[49m\n\u001b[32m     85\u001b[39m \u001b[43m    \u001b[49m\u001b[43m*\u001b[49m\u001b[43m*\u001b[49m\u001b[43mkeywords\u001b[49m\u001b[43m,\u001b[49m\n\u001b[32m     86\u001b[39m \u001b[43m\u001b[49m\u001b[43m)\u001b[49m\n\u001b[32m     88\u001b[39m \u001b[38;5;28;01mif\u001b[39;00m subformats[\u001b[32m0\u001b[39m] != \u001b[33m'\u001b[39m\u001b[33mpng\u001b[39m\u001b[33m'\u001b[39m:\n\u001b[32m     89\u001b[39m     \u001b[38;5;28;01mreturn\u001b[39;00m\n",
      "\u001b[36mFile \u001b[39m\u001b[32mc:\\Users\\kenne\\Documents\\school\\data_science\\data-science-activities\\myenv\\Lib\\site-packages\\music21\\converter\\subConverters.py:992\u001b[39m, in \u001b[36mConverterMusicXML.write\u001b[39m\u001b[34m(self, obj, fmt, fp, subformats, makeNotation, compress, **keywords)\u001b[39m\n\u001b[32m    989\u001b[39m \u001b[38;5;28;01mif\u001b[39;00m ((\u001b[33m'\u001b[39m\u001b[33mpng\u001b[39m\u001b[33m'\u001b[39m \u001b[38;5;129;01min\u001b[39;00m subformats \u001b[38;5;129;01mor\u001b[39;00m \u001b[33m'\u001b[39m\u001b[33mpdf\u001b[39m\u001b[33m'\u001b[39m \u001b[38;5;129;01min\u001b[39;00m subformats)\n\u001b[32m    990\u001b[39m         \u001b[38;5;129;01mand\u001b[39;00m \u001b[38;5;129;01mnot\u001b[39;00m \u001b[38;5;28mstr\u001b[39m(environLocal[\u001b[33m'\u001b[39m\u001b[33mmusescoreDirectPNGPath\u001b[39m\u001b[33m'\u001b[39m]).startswith(\u001b[33m'\u001b[39m\u001b[33m/skip\u001b[39m\u001b[33m'\u001b[39m)):\n\u001b[32m    991\u001b[39m     \u001b[38;5;28;01mfrom\u001b[39;00m\u001b[38;5;250m \u001b[39m\u001b[34;01mmusic21\u001b[39;00m\u001b[34;01m.\u001b[39;00m\u001b[34;01mconverter\u001b[39;00m\u001b[34;01m.\u001b[39;00m\u001b[34;01mmuseScore\u001b[39;00m\u001b[38;5;250m \u001b[39m\u001b[38;5;28;01mimport\u001b[39;00m runThroughMuseScore\n\u001b[32m--> \u001b[39m\u001b[32m992\u001b[39m     outFp = \u001b[43mrunThroughMuseScore\u001b[49m\u001b[43m(\u001b[49m\u001b[43mxmlFp\u001b[49m\u001b[43m,\u001b[49m\u001b[43m \u001b[49m\u001b[43msubformats\u001b[49m\u001b[43m,\u001b[49m\u001b[43m \u001b[49m\u001b[43m*\u001b[49m\u001b[43m*\u001b[49m\u001b[43mkeywords\u001b[49m\u001b[43m)\u001b[49m\n\u001b[32m    993\u001b[39m \u001b[38;5;28;01melif\u001b[39;00m compress:\n\u001b[32m    994\u001b[39m     archiveTools.compressXML(xmlFp,\n\u001b[32m    995\u001b[39m                              deleteOriginal=\u001b[38;5;28;01mTrue\u001b[39;00m,\n\u001b[32m    996\u001b[39m                              silent=\u001b[38;5;28;01mTrue\u001b[39;00m,\n\u001b[32m    997\u001b[39m                              strictMxlCheck=\u001b[38;5;28;01mFalse\u001b[39;00m)\n",
      "\u001b[36mFile \u001b[39m\u001b[32mc:\\Users\\kenne\\Documents\\school\\data_science\\data-science-activities\\myenv\\Lib\\site-packages\\music21\\converter\\museScore.py:87\u001b[39m, in \u001b[36mrunThroughMuseScore\u001b[39m\u001b[34m(fp, subformats, dpi, trimEdges, leaveMargin, **keywords)\u001b[39m\n\u001b[32m     84\u001b[39m     \u001b[38;5;28;01mif\u001b[39;00m dpi \u001b[38;5;129;01mis\u001b[39;00m \u001b[38;5;28;01mNone\u001b[39;00m:\n\u001b[32m     85\u001b[39m         museScoreRun.extend([\u001b[33m'\u001b[39m\u001b[33m-r\u001b[39m\u001b[33m'\u001b[39m, \u001b[38;5;28mstr\u001b[39m(defaults.jupyterImageDpi)])\n\u001b[32m---> \u001b[39m\u001b[32m87\u001b[39m \u001b[43mcommon\u001b[49m\u001b[43m.\u001b[49m\u001b[43mfileTools\u001b[49m\u001b[43m.\u001b[49m\u001b[43mrunSubprocessCapturingStderr\u001b[49m\u001b[43m(\u001b[49m\u001b[43mmuseScoreRun\u001b[49m\u001b[43m)\u001b[49m\n\u001b[32m     89\u001b[39m \u001b[38;5;28;01mif\u001b[39;00m common.runningInNotebook() \u001b[38;5;129;01mand\u001b[39;00m common.getPlatform() == \u001b[33m'\u001b[39m\u001b[33mnix\u001b[39m\u001b[33m'\u001b[39m:\n\u001b[32m     90\u001b[39m     \u001b[38;5;66;03m# Leave environment in original state\u001b[39;00m\n\u001b[32m     91\u001b[39m     \u001b[38;5;28;01mif\u001b[39;00m prior_qt \u001b[38;5;129;01mis\u001b[39;00m \u001b[38;5;28;01mNone\u001b[39;00m:\n",
      "\u001b[36mFile \u001b[39m\u001b[32mc:\\Users\\kenne\\Documents\\school\\data_science\\data-science-activities\\myenv\\Lib\\site-packages\\music21\\common\\fileTools.py:160\u001b[39m, in \u001b[36mrunSubprocessCapturingStderr\u001b[39m\u001b[34m(subprocessCommand)\u001b[39m\n\u001b[32m    155\u001b[39m \u001b[38;5;28;01mdef\u001b[39;00m\u001b[38;5;250m \u001b[39m\u001b[34mrunSubprocessCapturingStderr\u001b[39m(subprocessCommand):\n\u001b[32m    156\u001b[39m \u001b[38;5;250m    \u001b[39m\u001b[33;03m'''\u001b[39;00m\n\u001b[32m    157\u001b[39m \u001b[33;03m    Run a subprocess command, capturing stderr and\u001b[39;00m\n\u001b[32m    158\u001b[39m \u001b[33;03m    only show the error if an exception is raised.\u001b[39;00m\n\u001b[32m    159\u001b[39m \u001b[33;03m    '''\u001b[39;00m\n\u001b[32m--> \u001b[39m\u001b[32m160\u001b[39m     completed_process = \u001b[43msubprocess\u001b[49m\u001b[43m.\u001b[49m\u001b[43mrun\u001b[49m\u001b[43m(\u001b[49m\u001b[43msubprocessCommand\u001b[49m\u001b[43m,\u001b[49m\u001b[43m \u001b[49m\u001b[43mcapture_output\u001b[49m\u001b[43m=\u001b[49m\u001b[38;5;28;43;01mTrue\u001b[39;49;00m\u001b[43m,\u001b[49m\u001b[43m \u001b[49m\u001b[43mcheck\u001b[49m\u001b[43m=\u001b[49m\u001b[38;5;28;43;01mFalse\u001b[39;49;00m\u001b[43m)\u001b[49m\n\u001b[32m    161\u001b[39m     \u001b[38;5;28;01mif\u001b[39;00m completed_process.returncode != \u001b[32m0\u001b[39m:\n\u001b[32m    162\u001b[39m         \u001b[38;5;66;03m# Raise same exception class as findNumberedPNGPath()\u001b[39;00m\n\u001b[32m    163\u001b[39m         \u001b[38;5;66;03m# for backward compatibility\u001b[39;00m\n\u001b[32m    164\u001b[39m         stderr_bytes = completed_process.stderr\n",
      "\u001b[36mFile \u001b[39m\u001b[32m~\\AppData\\Local\\Programs\\Python\\Python313\\Lib\\subprocess.py:554\u001b[39m, in \u001b[36mrun\u001b[39m\u001b[34m(input, capture_output, timeout, check, *popenargs, **kwargs)\u001b[39m\n\u001b[32m    551\u001b[39m     kwargs[\u001b[33m'\u001b[39m\u001b[33mstdout\u001b[39m\u001b[33m'\u001b[39m] = PIPE\n\u001b[32m    552\u001b[39m     kwargs[\u001b[33m'\u001b[39m\u001b[33mstderr\u001b[39m\u001b[33m'\u001b[39m] = PIPE\n\u001b[32m--> \u001b[39m\u001b[32m554\u001b[39m \u001b[38;5;28;01mwith\u001b[39;00m \u001b[43mPopen\u001b[49m\u001b[43m(\u001b[49m\u001b[43m*\u001b[49m\u001b[43mpopenargs\u001b[49m\u001b[43m,\u001b[49m\u001b[43m \u001b[49m\u001b[43m*\u001b[49m\u001b[43m*\u001b[49m\u001b[43mkwargs\u001b[49m\u001b[43m)\u001b[49m \u001b[38;5;28;01mas\u001b[39;00m process:\n\u001b[32m    555\u001b[39m     \u001b[38;5;28;01mtry\u001b[39;00m:\n\u001b[32m    556\u001b[39m         stdout, stderr = process.communicate(\u001b[38;5;28minput\u001b[39m, timeout=timeout)\n",
      "\u001b[36mFile \u001b[39m\u001b[32m~\\AppData\\Local\\Programs\\Python\\Python313\\Lib\\subprocess.py:1039\u001b[39m, in \u001b[36mPopen.__init__\u001b[39m\u001b[34m(self, args, bufsize, executable, stdin, stdout, stderr, preexec_fn, close_fds, shell, cwd, env, universal_newlines, startupinfo, creationflags, restore_signals, start_new_session, pass_fds, user, group, extra_groups, encoding, errors, text, umask, pipesize, process_group)\u001b[39m\n\u001b[32m   1035\u001b[39m         \u001b[38;5;28;01mif\u001b[39;00m \u001b[38;5;28mself\u001b[39m.text_mode:\n\u001b[32m   1036\u001b[39m             \u001b[38;5;28mself\u001b[39m.stderr = io.TextIOWrapper(\u001b[38;5;28mself\u001b[39m.stderr,\n\u001b[32m   1037\u001b[39m                     encoding=encoding, errors=errors)\n\u001b[32m-> \u001b[39m\u001b[32m1039\u001b[39m     \u001b[38;5;28;43mself\u001b[39;49m\u001b[43m.\u001b[49m\u001b[43m_execute_child\u001b[49m\u001b[43m(\u001b[49m\u001b[43margs\u001b[49m\u001b[43m,\u001b[49m\u001b[43m \u001b[49m\u001b[43mexecutable\u001b[49m\u001b[43m,\u001b[49m\u001b[43m \u001b[49m\u001b[43mpreexec_fn\u001b[49m\u001b[43m,\u001b[49m\u001b[43m \u001b[49m\u001b[43mclose_fds\u001b[49m\u001b[43m,\u001b[49m\n\u001b[32m   1040\u001b[39m \u001b[43m                        \u001b[49m\u001b[43mpass_fds\u001b[49m\u001b[43m,\u001b[49m\u001b[43m \u001b[49m\u001b[43mcwd\u001b[49m\u001b[43m,\u001b[49m\u001b[43m \u001b[49m\u001b[43menv\u001b[49m\u001b[43m,\u001b[49m\n\u001b[32m   1041\u001b[39m \u001b[43m                        \u001b[49m\u001b[43mstartupinfo\u001b[49m\u001b[43m,\u001b[49m\u001b[43m \u001b[49m\u001b[43mcreationflags\u001b[49m\u001b[43m,\u001b[49m\u001b[43m \u001b[49m\u001b[43mshell\u001b[49m\u001b[43m,\u001b[49m\n\u001b[32m   1042\u001b[39m \u001b[43m                        \u001b[49m\u001b[43mp2cread\u001b[49m\u001b[43m,\u001b[49m\u001b[43m \u001b[49m\u001b[43mp2cwrite\u001b[49m\u001b[43m,\u001b[49m\n\u001b[32m   1043\u001b[39m \u001b[43m                        \u001b[49m\u001b[43mc2pread\u001b[49m\u001b[43m,\u001b[49m\u001b[43m \u001b[49m\u001b[43mc2pwrite\u001b[49m\u001b[43m,\u001b[49m\n\u001b[32m   1044\u001b[39m \u001b[43m                        \u001b[49m\u001b[43merrread\u001b[49m\u001b[43m,\u001b[49m\u001b[43m \u001b[49m\u001b[43merrwrite\u001b[49m\u001b[43m,\u001b[49m\n\u001b[32m   1045\u001b[39m \u001b[43m                        \u001b[49m\u001b[43mrestore_signals\u001b[49m\u001b[43m,\u001b[49m\n\u001b[32m   1046\u001b[39m \u001b[43m                        \u001b[49m\u001b[43mgid\u001b[49m\u001b[43m,\u001b[49m\u001b[43m \u001b[49m\u001b[43mgids\u001b[49m\u001b[43m,\u001b[49m\u001b[43m \u001b[49m\u001b[43muid\u001b[49m\u001b[43m,\u001b[49m\u001b[43m \u001b[49m\u001b[43mumask\u001b[49m\u001b[43m,\u001b[49m\n\u001b[32m   1047\u001b[39m \u001b[43m                        \u001b[49m\u001b[43mstart_new_session\u001b[49m\u001b[43m,\u001b[49m\u001b[43m \u001b[49m\u001b[43mprocess_group\u001b[49m\u001b[43m)\u001b[49m\n\u001b[32m   1048\u001b[39m \u001b[38;5;28;01mexcept\u001b[39;00m:\n\u001b[32m   1049\u001b[39m     \u001b[38;5;66;03m# Cleanup if the child failed starting.\u001b[39;00m\n\u001b[32m   1050\u001b[39m     \u001b[38;5;28;01mfor\u001b[39;00m f \u001b[38;5;129;01min\u001b[39;00m \u001b[38;5;28mfilter\u001b[39m(\u001b[38;5;28;01mNone\u001b[39;00m, (\u001b[38;5;28mself\u001b[39m.stdin, \u001b[38;5;28mself\u001b[39m.stdout, \u001b[38;5;28mself\u001b[39m.stderr)):\n",
      "\u001b[36mFile \u001b[39m\u001b[32m~\\AppData\\Local\\Programs\\Python\\Python313\\Lib\\subprocess.py:1554\u001b[39m, in \u001b[36mPopen._execute_child\u001b[39m\u001b[34m(self, args, executable, preexec_fn, close_fds, pass_fds, cwd, env, startupinfo, creationflags, shell, p2cread, p2cwrite, c2pread, c2pwrite, errread, errwrite, unused_restore_signals, unused_gid, unused_gids, unused_uid, unused_umask, unused_start_new_session, unused_process_group)\u001b[39m\n\u001b[32m   1552\u001b[39m \u001b[38;5;66;03m# Start the process\u001b[39;00m\n\u001b[32m   1553\u001b[39m \u001b[38;5;28;01mtry\u001b[39;00m:\n\u001b[32m-> \u001b[39m\u001b[32m1554\u001b[39m     hp, ht, pid, tid = \u001b[43m_winapi\u001b[49m\u001b[43m.\u001b[49m\u001b[43mCreateProcess\u001b[49m\u001b[43m(\u001b[49m\u001b[43mexecutable\u001b[49m\u001b[43m,\u001b[49m\u001b[43m \u001b[49m\u001b[43margs\u001b[49m\u001b[43m,\u001b[49m\n\u001b[32m   1555\u001b[39m \u001b[43m                             \u001b[49m\u001b[38;5;66;43;03m# no special security\u001b[39;49;00m\n\u001b[32m   1556\u001b[39m \u001b[43m                             \u001b[49m\u001b[38;5;28;43;01mNone\u001b[39;49;00m\u001b[43m,\u001b[49m\u001b[43m \u001b[49m\u001b[38;5;28;43;01mNone\u001b[39;49;00m\u001b[43m,\u001b[49m\n\u001b[32m   1557\u001b[39m \u001b[43m                             \u001b[49m\u001b[38;5;28;43mint\u001b[39;49m\u001b[43m(\u001b[49m\u001b[38;5;129;43;01mnot\u001b[39;49;00m\u001b[43m \u001b[49m\u001b[43mclose_fds\u001b[49m\u001b[43m)\u001b[49m\u001b[43m,\u001b[49m\n\u001b[32m   1558\u001b[39m \u001b[43m                             \u001b[49m\u001b[43mcreationflags\u001b[49m\u001b[43m,\u001b[49m\n\u001b[32m   1559\u001b[39m \u001b[43m                             \u001b[49m\u001b[43menv\u001b[49m\u001b[43m,\u001b[49m\n\u001b[32m   1560\u001b[39m \u001b[43m                             \u001b[49m\u001b[43mcwd\u001b[49m\u001b[43m,\u001b[49m\n\u001b[32m   1561\u001b[39m \u001b[43m                             \u001b[49m\u001b[43mstartupinfo\u001b[49m\u001b[43m)\u001b[49m\n\u001b[32m   1562\u001b[39m \u001b[38;5;28;01mfinally\u001b[39;00m:\n\u001b[32m   1563\u001b[39m     \u001b[38;5;66;03m# Child is launched. Close the parent's copy of those pipe\u001b[39;00m\n\u001b[32m   1564\u001b[39m     \u001b[38;5;66;03m# handles that only the child should have open.  You need\u001b[39;00m\n\u001b[32m   (...)\u001b[39m\u001b[32m   1567\u001b[39m     \u001b[38;5;66;03m# pipe will not close when the child process exits and the\u001b[39;00m\n\u001b[32m   1568\u001b[39m     \u001b[38;5;66;03m# ReadFile will hang.\u001b[39;00m\n\u001b[32m   1569\u001b[39m     \u001b[38;5;28mself\u001b[39m._close_pipe_fds(p2cread, p2cwrite,\n\u001b[32m   1570\u001b[39m                          c2pread, c2pwrite,\n\u001b[32m   1571\u001b[39m                          errread, errwrite)\n",
      "\u001b[31mPermissionError\u001b[39m: [WinError 5] Access is denied"
     ]
    }
   ],
   "source": [
    "from music21 import *\n",
    "\n",
    "# Sample output using music21\n",
    "n1 = note.Note(\"C4\")\n",
    "n1.duration.type=\"whole\"\n",
    "n2 = note.Note(\"A4\")\n",
    "n2.duration.type=\"16th\"\n",
    "\n",
    "stream=stream.Stream()\n",
    "\n",
    "stream.timeSignature = meter.TimeSignature('6/4')\n",
    "stream.keySignature = key.KeySignature(0) # set key to C major\n",
    "stream.tempo = tempo.MetronomeMark(number=120) # set tempo to 120 BPM\n",
    "\n",
    "stream.append([n1,n2])\n",
    "\n",
    "stream.show()\n",
    "\n",
    "#Writing as xml for MuseScore\n",
    "stream.write(\"musicxml\",fp=\"test.xml\")\n"
   ]
  }
 ],
 "metadata": {
  "kernelspec": {
   "display_name": "Python (.venv)",
   "language": "python",
   "name": ".myenv"
  },
  "language_info": {
   "codemirror_mode": {
    "name": "ipython",
    "version": 3
   },
   "file_extension": ".py",
   "mimetype": "text/x-python",
   "name": "python",
   "nbconvert_exporter": "python",
   "pygments_lexer": "ipython3",
   "version": "3.13.4"
  }
 },
 "nbformat": 4,
 "nbformat_minor": 5
}
